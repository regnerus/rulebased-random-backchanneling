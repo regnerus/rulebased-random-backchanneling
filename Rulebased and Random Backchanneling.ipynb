{
 "cells": [
  {
   "cell_type": "markdown",
   "metadata": {},
   "source": [
    "# Rulebased and Random Backchanneling"
   ]
  },
  {
   "cell_type": "markdown",
   "metadata": {},
   "source": [
    "### Python Imports"
   ]
  },
  {
   "cell_type": "code",
   "execution_count": null,
   "metadata": {
    "collapsed": true
   },
   "outputs": [],
   "source": [
    "import numpy as num\n",
    "import math\n",
    "import time \n",
    "import random\n",
    "from random import randint\n",
    "from websocket import create_connection\n",
    "\n",
    "import aubio\n",
    "import pyaudio\n",
    "import wave"
   ]
  },
  {
   "cell_type": "markdown",
   "metadata": {},
   "source": [
    "### Create Socket Connection"
   ]
  },
  {
   "cell_type": "code",
   "execution_count": null,
   "metadata": {},
   "outputs": [],
   "source": [
    "ws = create_connection(\"ws://url:port\")"
   ]
  },
  {
   "cell_type": "markdown",
   "metadata": {},
   "source": [
    "### Start Greeter Message\n",
    "“Hi! I understood that you witnessed a crime or an attempted crime. Could you please tell me as much as possible of what you saw from the offenders, victims and other witnesses? Please tell every detail you remember from the moment the video started, even if they seem trivial to you.”"
   ]
  },
  {
   "cell_type": "code",
   "execution_count": null,
   "metadata": {},
   "outputs": [],
   "source": [
    "ws.send(\";GREETER\")"
   ]
  },
  {
   "cell_type": "markdown",
   "metadata": {},
   "source": [
    "### Start Ending Message\n",
    "“Thank you for the information! I think i have a clear view of what happened. Have a nice day.”"
   ]
  },
  {
   "cell_type": "code",
   "execution_count": null,
   "metadata": {
    "collapsed": true
   },
   "outputs": [],
   "source": [
    "ws.send(\";ENDING\")"
   ]
  },
  {
   "cell_type": "markdown",
   "metadata": {},
   "source": [
    "### Produce Backchannel\n",
    "The type of backchannel is determined using the backchannel frequency according to S. White, “Backchannels across cultures: A study of americans and japanese,” Language in Society, vol. 18, no. 1, p. 5976, 1989."
   ]
  },
  {
   "cell_type": "code",
   "execution_count": null,
   "metadata": {
    "collapsed": true
   },
   "outputs": [],
   "source": [
    "def produceBackchannel():\n",
    "    choice = num.random.choice(5, 1, p=[0.43, 0.19, 0.18, 0.14, 0.06])[0]\n",
    "\n",
    "    if choice == 0:\n",
    "        print \"mmhm!\"\n",
    "        return \"MHMMM\"\n",
    "    elif choice == 1:\n",
    "        print \"yeah!\"\n",
    "        return \"YEAH\"\n",
    "    elif choice == 2:\n",
    "        print \"uh-huh!\"\n",
    "        return \"UHUH\"\n",
    "    elif choice == 3:\n",
    "        print \"oh!\"\n",
    "        return \"OHH\"\n",
    "    elif choice == 4:\n",
    "        print \"hmm!\"\n",
    "        return \"HMMMM\""
   ]
  },
  {
   "cell_type": "markdown",
   "metadata": {},
   "source": [
    "## Backchanneling Methods"
   ]
  },
  {
   "cell_type": "markdown",
   "metadata": {},
   "source": [
    "### Random Backchanneling Method"
   ]
  },
  {
   "cell_type": "code",
   "execution_count": null,
   "metadata": {},
   "outputs": [],
   "source": [
    "items_per_minute = 10\n",
    "\n",
    "def newRandom(items_per_minute):\n",
    "    rand_items = math.ceil(60 / items_per_minute)\n",
    "    return random.randint(0,rand_items)\n",
    "\n",
    "while True:\n",
    "    rand_val = newRandom(items_per_minute)\n",
    "    \n",
    "    time.sleep((60 / items_per_minute) - rand_val)\n",
    "    \n",
    "    backchannel = produceBackchannel()\n",
    "    ws.send(\";\" + backchannel)\n",
    "    \n",
    "    time.sleep(rand_val)"
   ]
  },
  {
   "cell_type": "markdown",
   "metadata": {},
   "source": [
    "### Rulebased Backchanneling\n",
    "K. P. Truong, R. Poppe, and D. Heylen, “A rule-based backchannel prediction model using pitch and pause information,” Ph.D. dissertation, Electrical Engi- neering, Mathematics and Computer Science (EEMCS), Sep. 2010."
   ]
  },
  {
   "cell_type": "code",
   "execution_count": null,
   "metadata": {},
   "outputs": [],
   "source": [
    "silence_threshold = -70.\n",
    "\n",
    "p = pyaudio.PyAudio()\n",
    "\n",
    "frames = 1024 \n",
    "sample_rate = 44100\n",
    "\n",
    "silence_threshold = -40\n",
    "\n",
    "pitch_length_threshold = .100\n",
    "speech_length_threshold = .700\n",
    "previous_backchannel_threshold = 1.400\n",
    "pitch_threshold = 30\n",
    "\n",
    "wait_length = .700\n",
    "\n",
    "total_frames = 0\n",
    "\n",
    "length_silence = 0\n",
    "length_speech = 0\n",
    "length_speech_old = 0\n",
    "previous_backchannel = 0\n",
    "\n",
    "pitch_array = []\n",
    "\n",
    "# Open stream.\n",
    "stream = p.open(format=pyaudio.paFloat32,\n",
    "    channels=1, rate=sample_rate, input=True,\n",
    "    frames_per_buffer=frames)\n",
    "\n",
    "# Aubio's pitch detection.\n",
    "pDetection = aubio.pitch(\"default\", 2048,\n",
    "    2048//2, sample_rate)\n",
    "# Set unit.\n",
    "pDetection.set_unit(\"Hz\")\n",
    "pDetection.set_silence(silence_threshold)\n",
    "\n",
    "while True:\n",
    "    data = stream.read(1024)\n",
    "    samples = num.fromstring(data, dtype=aubio.float_type)\n",
    "    \n",
    "    total_frames += len(samples)\n",
    "    \n",
    "    is_silence = aubio.silence_detection(samples, silence_threshold);\n",
    "    \n",
    "    if(is_silence):\n",
    "        length_silence += len(samples)\n",
    "        length_speech_old = length_speech\n",
    "        length_speech = 0\n",
    "    else:\n",
    "        length_silence = 0\n",
    "        length_speech_old = 0\n",
    "        length_speech += len(samples)\n",
    "        \n",
    "    pitch = pDetection(samples)[0] \n",
    "    pitch_array.append(pitch)\n",
    "    \n",
    "    previous_backchannel += len(samples)\n",
    "        \n",
    "    last_pitches = int(math.ceil((sample_rate * pitch_length_threshold) / len(samples)))\n",
    "    \n",
    "    sel_pitches =  pitch_array[(-1 * last_pitches):]\n",
    "        \n",
    "    if(\n",
    "        length_silence >= (sample_rate * silence_threshold) and\n",
    "        length_speech_old >= (sample_rate * speech_length_threshold) and\n",
    "        previous_backchannel >= (sample_rate * previous_backchannel_threshold) and\n",
    "        abs(sel_pitches[0] - sel_pitches[len(sel_pitches) - 1]) >= pitch_threshold\n",
    "    ):\n",
    "        \n",
    "        time.sleep(.400)\n",
    "        \n",
    "        backchannel = produceBackchannel()\n",
    "        ws.send(\";\" + backchannel)\n",
    "        \n",
    "        previous_backchannel = 0"
   ]
  },
  {
   "cell_type": "code",
   "execution_count": null,
   "metadata": {
    "collapsed": true
   },
   "outputs": [],
   "source": [
    "ws.close()"
   ]
  }
 ],
 "metadata": {
  "kernelspec": {
   "display_name": "Python 2",
   "language": "python",
   "name": "python2"
  },
  "language_info": {
   "codemirror_mode": {
    "name": "ipython",
    "version": 2
   },
   "file_extension": ".py",
   "mimetype": "text/x-python",
   "name": "python",
   "nbconvert_exporter": "python",
   "pygments_lexer": "ipython2",
   "version": "2.7.13"
  }
 },
 "nbformat": 4,
 "nbformat_minor": 2
}
